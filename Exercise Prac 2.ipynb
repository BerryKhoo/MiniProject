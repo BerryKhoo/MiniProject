{
 "cells": [
  {
   "cell_type": "markdown",
   "id": "3bba5ca3",
   "metadata": {},
   "source": [
    "Exercise Week 2 Tutorial"
   ]
  },
  {
   "cell_type": "markdown",
   "id": "100ca90c",
   "metadata": {},
   "source": [
    "Exercise 1"
   ]
  },
  {
   "cell_type": "code",
   "execution_count": 26,
   "id": "26eaee87",
   "metadata": {},
   "outputs": [],
   "source": [
    "import numpy as np\n",
    "import matplotlib.pyplot as plt"
   ]
  },
  {
   "cell_type": "code",
   "execution_count": 27,
   "id": "f9aba03f",
   "metadata": {},
   "outputs": [],
   "source": [
    "def even_or_odd(x):\n",
    "    if (x%2 == 0):\n",
    "        print(\"x is an even number!\")\n",
    "    \n",
    "    elif (x%2 == 1):\n",
    "        print(\"x is an odd number!\")\n",
    "        \n",
    "    else:\n",
    "        print(\"x is nor an even or odd number!\")"
   ]
  },
  {
   "cell_type": "code",
   "execution_count": 28,
   "id": "8112b042",
   "metadata": {},
   "outputs": [
    {
     "name": "stdout",
     "output_type": "stream",
     "text": [
      "x is an odd number!\n"
     ]
    }
   ],
   "source": [
    "even_or_odd(1)"
   ]
  },
  {
   "cell_type": "code",
   "execution_count": 29,
   "id": "5cf03a85",
   "metadata": {},
   "outputs": [
    {
     "name": "stdout",
     "output_type": "stream",
     "text": [
      "x is an even number!\n"
     ]
    }
   ],
   "source": [
    "even_or_odd(2)\n"
   ]
  },
  {
   "cell_type": "code",
   "execution_count": 30,
   "id": "9dbc1814",
   "metadata": {},
   "outputs": [
    {
     "name": "stdout",
     "output_type": "stream",
     "text": [
      "x is nor an even or odd number!\n"
     ]
    }
   ],
   "source": [
    "even_or_odd(2.3)"
   ]
  },
  {
   "cell_type": "markdown",
   "id": "abb6e41f",
   "metadata": {},
   "source": [
    "Exercise 2"
   ]
  },
  {
   "cell_type": "code",
   "execution_count": 31,
   "id": "f5126457",
   "metadata": {},
   "outputs": [],
   "source": [
    "large_n = 1e5\n",
    "\n",
    "numpy_arr = np.arange(large_n)\n",
    "list_arr = list(range(int(large_n)))"
   ]
  },
  {
   "cell_type": "code",
   "execution_count": 32,
   "id": "67fc49bd",
   "metadata": {},
   "outputs": [
    {
     "name": "stdout",
     "output_type": "stream",
     "text": [
      "99999.0\n",
      "99999\n"
     ]
    }
   ],
   "source": [
    "print(numpy_arr[-1])\n",
    "print(list_arr[-1])"
   ]
  },
  {
   "cell_type": "code",
   "execution_count": 33,
   "id": "1ce93395",
   "metadata": {},
   "outputs": [
    {
     "name": "stdout",
     "output_type": "stream",
     "text": [
      "36.9 µs ± 1.08 µs per loop (mean ± std. dev. of 7 runs, 10,000 loops each)\n"
     ]
    }
   ],
   "source": [
    "%timeit res = numpy_arr * 2"
   ]
  },
  {
   "cell_type": "code",
   "execution_count": 34,
   "id": "8346c948",
   "metadata": {},
   "outputs": [
    {
     "name": "stdout",
     "output_type": "stream",
     "text": [
      "4.49 ms ± 48 µs per loop (mean ± std. dev. of 7 runs, 100 loops each)\n"
     ]
    }
   ],
   "source": [
    "%timeit res = [2*i for i in list_arr]"
   ]
  },
  {
   "cell_type": "code",
   "execution_count": 35,
   "id": "61f018fa",
   "metadata": {},
   "outputs": [
    {
     "name": "stdout",
     "output_type": "stream",
     "text": [
      "[0 1 2 3 4 5 6 7 8 9]\n",
      "[ 0  1  2  3 25 25 25  7  8  9]\n",
      "[-1 25 25]\n",
      "[ 0  1  2  3 25 25 25  7  8  9]\n"
     ]
    }
   ],
   "source": [
    "import numpy as np\n",
    "\n",
    "my_arr=np.arange(10)\n",
    "print(my_arr)\n",
    "my_arr[4:7]= 25\n",
    "print(my_arr)\n",
    "\n",
    "arr_slice=my_arr[4:7].copy()\n",
    "arr_slice[0]=-1\n",
    "\n",
    "print(arr_slice)\n",
    "print(my_arr)"
   ]
  },
  {
   "cell_type": "markdown",
   "id": "058b74e7",
   "metadata": {},
   "source": [
    "Exercise 4"
   ]
  },
  {
   "cell_type": "code",
   "execution_count": 36,
   "id": "6b98671d",
   "metadata": {},
   "outputs": [
    {
     "data": {
      "image/png": "[encoded data removed]",
      "text/plain": [
       "<Figure size 640x480 with 1 Axes>"
      ]
     },
     "metadata": {},
     "output_type": "display_data"
    }
   ],
   "source": [
    "#determine size\n",
    "\n",
    "size = 500\n",
    "\n",
    "image = np.zeros((size,size))\n",
    "\n",
    "center_x = size/2\n",
    "center_y = size/2\n",
    "radius = center_x/2\n",
    "\n",
    "#meshgird : to create a rectangular grid out of two given one-dimensional arrays\n",
    "x, y = np.meshgrid(np.arange(size), np.arange(size))\n",
    "\n",
    "#calculate distance from pixel to center\n",
    "distance = np.sqrt((x - center_x) ** 2 + (y - center_y) ** 2)\n",
    "\n",
    "image[distance <= radius] = 1\n",
    "\n",
    "plt.imshow(image, cmap='gray')\n",
    "\n",
    "# Remove the axis ticks and labels\n",
    "plt.xticks([]),plt.yticks([])\n",
    "\n",
    "# Show the plot\n",
    "plt.show()"
   ]
  }
 ],
 "metadata": {
  "kernelspec": {
   "display_name": "Python 3 (ipykernel)",
   "language": "python",
   "name": "python3"
  },
  "language_info": {
   "codemirror_mode": {
    "name": "ipython",
    "version": 3
   },
   "file_extension": ".py",
   "mimetype": "text/x-python",
   "name": "python",
   "nbconvert_exporter": "python",
   "pygments_lexer": "ipython3",
   "version": "3.11.4"
  }
 },
 "nbformat": 4,
 "nbformat_minor": 5
}
