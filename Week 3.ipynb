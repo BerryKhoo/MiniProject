{
 "cells": [
  {
   "cell_type": "markdown",
   "id": "7832dcd7",
   "metadata": {},
   "source": [
    "# Learning Outcome\n",
    "\n",
    "1. Load, display and save images\n",
    "2. Load, show and save videos\n",
    "3. Resize images (Image acquistion, Resizing)\n"
   ]
  },
  {
   "cell_type": "markdown",
   "id": "5e4bee68",
   "metadata": {},
   "source": [
    "## Why openCV?\n",
    "- Compatible in multiple MAJOR OS like Windows, Linux and MacOS, can be written in different languages: C++, Python and Java\n",
    "- Interopterable with Numpy modules, thereby faster computation of image array\n",
    "- Large community support on the module, alot of resources online (articles and stackoverflow posts)\n"
   ]
  },
  {
   "cell_type": "markdown",
   "id": "ba804dcf",
   "metadata": {},
   "source": [
    "## Image Formats\n",
    "- JPEG (.jpg, .jpeg, .jfif)\n",
    "    - photos taken from camera\n",
    "\n",
    "- PNG (.png)\n",
    "    - website, larger file size compare to JPEG\n",
    "    \n",
    "- tiff (.tif)\n",
    "    - high quality printing, large file size\n",
    "    \n",
    "- bmp (.bmp)\n",
    "    - muliple uses, large file size\n",
    "\n",
    "- GIF (.gif)\n",
    "    - animations, shallow color depth\n",
    "    \n",
    "- webp (.webp) (Develop by google)\n",
    "    - Smaller file size compare to JPEG and PNG, not supported by IE 11"
   ]
  },
  {
   "cell_type": "markdown",
   "id": "e8b67aaa",
   "metadata": {},
   "source": [
    "## Setup"
   ]
  },
  {
   "cell_type": "code",
   "execution_count": 4,
   "id": "51781b4b",
   "metadata": {},
   "outputs": [],
   "source": [
    "import sys\n",
    "\n",
    "# at least Python 3.7\n",
    "assert sys.version_info >= (3, 7)\n",
    "\n",
    "import numpy as np\n",
    "import cv2 as cv"
   ]
  },
  {
   "cell_type": "code",
   "execution_count": 5,
   "id": "b42807ae",
   "metadata": {},
   "outputs": [
    {
     "name": "stdout",
     "output_type": "stream",
     "text": [
      "4.8.0\n"
     ]
    }
   ],
   "source": [
    "# Check OpenCV version\n",
    "print(cv.__version__)"
   ]
  },
  {
   "cell_type": "markdown",
   "id": "53f77d06",
   "metadata": {},
   "source": [
    "## Load and show images"
   ]
  },
  {
   "cell_type": "code",
   "execution_count": 6,
   "id": "8267f0b7",
   "metadata": {},
   "outputs": [],
   "source": [
    "img = cv.imread(\"images/lena.jfif\")\n",
    "# second argument: 1 (default), 0 (grayscale), -1(cv.IMREAD_UNCHANGED)\n",
    "grayscale = cv.imread(\"images/lena.jfif\", 0)\n",
    "\n",
    "cv.imshow(\"lena_color\", img)\n",
    "cv.imshow(\"lena_grayscale\", grayscale)\n",
    "cv.waitKey(0) # Key binding function: wait for user response\n",
    "cv.destroyAllWindows()"
   ]
  },
  {
   "cell_type": "code",
   "execution_count": 7,
   "id": "a5dd40ad",
   "metadata": {},
   "outputs": [],
   "source": [
    "def show_img(window_name, img):\n",
    "    \"\"\"2 arguments: windown name and image\"\"\"\n",
    "    \n",
    "    cv.imshow(window_name, img)\n",
    "    cv.waitKey(0) # Key binding function: wait for user response\n",
    "    cv.destroyAllWindows()"
   ]
  },
  {
   "cell_type": "code",
   "execution_count": 5,
   "id": "7618a7a6",
   "metadata": {},
   "outputs": [],
   "source": [
    "# png\n",
    "\n",
    "img = cv.imread(\"images/lena.png\")\n",
    "\n",
    "show_img(\"lena\", img)"
   ]
  },
  {
   "cell_type": "code",
   "execution_count": 6,
   "id": "3143d9e1",
   "metadata": {},
   "outputs": [
    {
     "name": "stdout",
     "output_type": "stream",
     "text": [
      "shape of jpeg image: (225, 225, 3)\n",
      "shape of png image: (225, 225, 4)\n"
     ]
    }
   ],
   "source": [
    "#difference between jpeg and png\n",
    "img_jpeg = cv.imread(\"images/lena.jpg\", -1)\n",
    "img_png = cv.imread(\"images/lena.png\", -1)\n",
    "\n",
    "print(f\"shape of jpeg image: {img_jpeg.shape}\")\n",
    "print(f\"shape of png image: {img_png.shape}\")"
   ]
  },
  {
   "cell_type": "markdown",
   "id": "a5bf79a9",
   "metadata": {},
   "source": [
    "### gif\n",
    "import new module"
   ]
  },
  {
   "cell_type": "code",
   "execution_count": 7,
   "id": "d932f261",
   "metadata": {},
   "outputs": [
    {
     "name": "stdout",
     "output_type": "stream",
     "text": [
      "Requirement already satisfied: imageio in c:\\users\\fict\\appdata\\local\\programs\\python\\python310\\lib\\site-packages (2.31.1)\n",
      "Requirement already satisfied: numpy in c:\\users\\fict\\appdata\\local\\programs\\python\\python310\\lib\\site-packages (from imageio) (1.22.4)\n",
      "Requirement already satisfied: pillow>=8.3.2 in c:\\users\\fict\\appdata\\local\\programs\\python\\python310\\lib\\site-packages (from imageio) (9.5.0)\n"
     ]
    }
   ],
   "source": [
    "!pip install imageio\n"
   ]
  },
  {
   "cell_type": "code",
   "execution_count": 8,
   "id": "4a2d1865",
   "metadata": {},
   "outputs": [],
   "source": [
    "import imageio"
   ]
  },
  {
   "cell_type": "code",
   "execution_count": 9,
   "id": "84795bc4",
   "metadata": {
    "scrolled": true
   },
   "outputs": [],
   "source": [
    "# gif\n",
    "GIF = imageio.mimread(\"images/rotating_earth_large.gif\")\n",
    "\n",
    "# change to BGR from RGB\n",
    "imgs = [cv.cvtColor(img, cv.COLOR_RGB2BGR) for img in GIF]\n",
    "\n",
    "for img in imgs:\n",
    "    cv.imshow(\"GIF\", img)\n",
    "    cv.waitKey(200)\n",
    "    \n",
    "cv.destroyAllWindows()"
   ]
  },
  {
   "cell_type": "markdown",
   "id": "3dc8f1a7",
   "metadata": {},
   "source": [
    "## Save images\n",
    "cv.imwrite(filepath, img)"
   ]
  },
  {
   "cell_type": "code",
   "execution_count": 10,
   "id": "62068ac9",
   "metadata": {},
   "outputs": [],
   "source": [
    "# a more formalized approach\n",
    "img = cv.imread(cv.samples.findFile(\"images/lena.jfif\"))\n",
    "\n",
    "if img is None:\n",
    "    sys.exit(\"Not a valid filepath\")\n",
    "    \n",
    "cv.imshow(\"img\",img)\n",
    "k = cv.waitKey(0) & 0xFF\n",
    "\n",
    "if k == 115: # press 's' button\n",
    "    cv.imwrite(\"lena_save.jpg\",img)\n",
    "    \n",
    "cv.destroyAllWindows()"
   ]
  },
  {
   "cell_type": "markdown",
   "id": "ab7ac051",
   "metadata": {},
   "source": [
    "## Same Operations on videos\n",
    "Load and show windows"
   ]
  },
  {
   "cell_type": "code",
   "execution_count": 9,
   "id": "023933f8",
   "metadata": {},
   "outputs": [],
   "source": [
    "cap = cv.VideoCapture(\"videos/img_pexels.mp4\")\n",
    "\n",
    "if not cap.isOpened():\n",
    "    sys.exit(\"No video file fould\")\n",
    "\n",
    "cv.namedWindow(\"frame\", cv.WINDOW_NORMAL)\n",
    "while True:\n",
    "    ret, frame = cap.read() #ret is a boolean\n",
    "    \n",
    "    if not ret:\n",
    "        print(\"No frame received!\")\n",
    "        break\n",
    "    \n",
    "    cv.imshow(\"frame\", frame)\n",
    "    k = cv.waitKey(1) & 0xFF\n",
    "    if k == 27:\n",
    "        break\n",
    "        \n",
    "cap.release()\n",
    "cv.destroyAllWindows()\n",
    "        "
   ]
  },
  {
   "cell_type": "code",
   "execution_count": 12,
   "id": "5a653946",
   "metadata": {},
   "outputs": [],
   "source": [
    "import time"
   ]
  },
  {
   "cell_type": "code",
   "execution_count": 13,
   "id": "3df09ddf",
   "metadata": {},
   "outputs": [],
   "source": [
    "cap = cv.VideoCapture(\"videos/img_pexels.mp4\")\n",
    "\n",
    "if not cap.isOpened():\n",
    "    sys.exit(\"No video file fould\")\n",
    "\n",
    "cv.namedWindow(\"frame\", cv.WINDOW_NORMAL)\n",
    "start = time.time()\n",
    "while True:\n",
    "    ret, frame = cap.read() #ret is a boolean\n",
    "    \n",
    "    if not ret:\n",
    "        print(\"No frame received!\")\n",
    "        break\n",
    "    \n",
    "    cv.imshow(\"frame\", frame)\n",
    "    k = cv.waitKey(1) & 0xFF\n",
    "    if k == 27:\n",
    "        break\n",
    "end = time.time()       \n",
    "# cap.release()\n",
    "cv.destroyAllWindows()\n",
    "        "
   ]
  },
  {
   "cell_type": "code",
   "execution_count": 18,
   "id": "9a67d93c",
   "metadata": {},
   "outputs": [
    {
     "ename": "SystemExit",
     "evalue": "No webcam found",
     "output_type": "error",
     "traceback": [
      "An exception has occurred, use %tb to see the full traceback.\n",
      "\u001b[1;31mSystemExit\u001b[0m\u001b[1;31m:\u001b[0m No webcam found\n"
     ]
    },
    {
     "name": "stderr",
     "output_type": "stream",
     "text": [
      "C:\\Users\\fict\\AppData\\Local\\Programs\\Python\\Python310\\lib\\site-packages\\IPython\\core\\interactiveshell.py:3406: UserWarning: To exit: use 'exit', 'quit', or Ctrl-D.\n",
      "  warn(\"To exit: use 'exit', 'quit', or Ctrl-D.\", stacklevel=1)\n"
     ]
    }
   ],
   "source": [
    "cap = cv.VideoCapture(0)\n",
    "\n",
    "if not cap.isOpened():\n",
    "        sys.exit(\"No webcam found\")\n",
    "        \n",
    "#save video object\n",
    "#arguments: filemath, fourcc (algorithm, for compression and decompression of the video file), fps, width and height\n",
    "\n",
    "fourcc = cv.VideoWriter_fourcc(\"M\", \"J\", \"P\", \"G\")\n",
    "fps = 15\n",
    "w, h = int(cap.get(3)), int(cap.get(4))\n",
    "out = cv.VideoWriter(\"videos/out.avi\", fourcc, fps, (w,h))\n",
    "\n",
    "while True:\n",
    "    ret, frame = cap.read() #ret is a boolean\n",
    "    \n",
    "    if not ret:\n",
    "        print(\"No frame received!\")\n",
    "        break\n",
    "    \n",
    "    out.write(frame)\n",
    "    cv.imshow(\"frame\", frame)\n",
    "    k = cv.waitKey(1) & 0xFF\n",
    "    if k == 27:\n",
    "        break\n",
    "        \n",
    "cap.release()\n",
    "out.release()\n",
    "cv.destroyAllWindows()"
   ]
  },
  {
   "cell_type": "code",
   "execution_count": 14,
   "id": "c8e3713d",
   "metadata": {},
   "outputs": [
    {
     "name": "stdout",
     "output_type": "stream",
     "text": [
      "The actual frame rate form the file: 60.0\n",
      "The fps if stream using OpenCV: 1093.2491618284405\n"
     ]
    }
   ],
   "source": [
    "print(f\"The actual frame rate form the file: {cap.get(5)}\")\n",
    "n_frames = cap.get(7)\n",
    "print(f\"The fps if stream using OpenCV: {n_frames/(end-start)}\")"
   ]
  },
  {
   "cell_type": "markdown",
   "id": "dc39fa4c",
   "metadata": {},
   "source": [
    "## Image resizing\n",
    "1. set arbitary dimension (w, h).\n",
    "2. scale factor"
   ]
  },
  {
   "cell_type": "code",
   "execution_count": 21,
   "id": "75779eab",
   "metadata": {},
   "outputs": [],
   "source": [
    "# 1 method\n",
    "img = cv.imread(\"images/soccer.jpg\")\n",
    "\n",
    "new_height = 450\n",
    "new_width = 300\n",
    "\n",
    "#third argument: fx, 4th: fy, 5th: interpolation method (default: bilinear)\n",
    "img_resize = cv.resize(img, (new_width,new_height)) \n",
    "\n",
    "cv.imshow(\"original\",img)\n",
    "show_img(\"resize\", img_resize)"
   ]
  },
  {
   "cell_type": "code",
   "execution_count": 20,
   "id": "3eb86a24",
   "metadata": {},
   "outputs": [
    {
     "data": {
      "text/plain": [
       "(1200, 800, 3)"
      ]
     },
     "execution_count": 20,
     "metadata": {},
     "output_type": "execute_result"
    }
   ],
   "source": [
    "img.shape"
   ]
  },
  {
   "cell_type": "code",
   "execution_count": 16,
   "id": "35807d32",
   "metadata": {},
   "outputs": [],
   "source": [
    "# 2 method: scale factor\n",
    "\n",
    "img = cv.imread(\"images/lena.jfif\")\n",
    "\n",
    "img_resize = cv.resize(img, None, fx=1.5, fy=1.5)\n",
    "cv.imshow(\"original\", img)\n",
    "show_img(\"resize\", img_resize)"
   ]
  },
  {
   "cell_type": "markdown",
   "id": "078cd4be",
   "metadata": {},
   "source": [
    "## Exercise"
   ]
  },
  {
   "cell_type": "code",
   "execution_count": 17,
   "id": "4bfda625",
   "metadata": {},
   "outputs": [],
   "source": [
    "#1 method: cv.imshow() called twice\n",
    "img = cv.imread(\"images/dog.jfif\")\n",
    "grayscale = cv.imread(\"images/dog.jfif\", 0)\n",
    "#grayscale = cv.cvtColor(img, cv.COLOR_BGR2GRAY)\n",
    "\n",
    "cv.imshow(\"original\", img)\n",
    "show_img(\"Grayscale\", grayscale)"
   ]
  },
  {
   "cell_type": "code",
   "execution_count": 18,
   "id": "ca1e201c",
   "metadata": {},
   "outputs": [],
   "source": [
    "#2:import external module: matplotlib\n",
    "\n",
    "import matplotlib.pyplot as plt"
   ]
  },
  {
   "cell_type": "code",
   "execution_count": 19,
   "id": "36d3b365",
   "metadata": {},
   "outputs": [
    {
     "data": {
      "image/png": "[encoded data removed]",
      "text/plain": [
       "<Figure size 432x288 with 2 Axes>"
      ]
     },
     "metadata": {},
     "output_type": "display_data"
    }
   ],
   "source": [
    "img_rgb = cv.cvtColor(img, cv.COLOR_BGR2RGB)\n",
    "\n",
    "plt.subplot(121)  #1 row, 2 column, work on the first figure\n",
    "plt.imshow(img_rgb)\n",
    "plt.xticks([]), plt.yticks([])\n",
    "plt.subplot(122)  #1 row, 2 column, work on the second figure\n",
    "plt.imshow(grayscale, cmap=plt.cm.gray)\n",
    "plt.xticks([]), plt.yticks([])\n",
    "plt.suptitle(\"color vs grayscale\")\n",
    "plt.show()"
   ]
  },
  {
   "cell_type": "code",
   "execution_count": null,
   "id": "f562ae5a",
   "metadata": {},
   "outputs": [],
   "source": [
    "# 3 method concatenate (join array)\n",
    "gray = cv.cvtColor(grayscale, cv.COLOR_GRAY2BGR)\n",
    "\n",
    "#img_combined = np.hstack((img,gray))\n",
    "img_combined = np.concatenate((img,gray), axis = 1)\n",
    "show_img(\"joined\", img_combined)"
   ]
  },
  {
   "cell_type": "markdown",
   "id": "c5cc2df9",
   "metadata": {},
   "source": [
    "Exercise 3"
   ]
  },
  {
   "cell_type": "code",
   "execution_count": 8,
   "id": "80d19132",
   "metadata": {},
   "outputs": [],
   "source": [
    "cap = cv.VideoCapture(\"videos/img_pexels.mp4\")\n",
    "\n",
    "if not cap.isOpened():\n",
    "    sys.exit(\"No video file found\")\n",
    "    \n",
    "#cv.namedWindow(\"frame\", cv.WINDOW_NORMAL)\n",
    "\n",
    "new_height = 600\n",
    "new_width = 400\n",
    "fps = 30\n",
    "fourcc = cv.VideoWriter_fourcc(\"M\", \"J\", \"P\", \"G\")\n",
    "out = cv.VideoWriter('smaller_img_pexels.avi',fourcc,fps, (new_width, new_height))\n",
    "\n",
    "while cap.isOpened():\n",
    "    ret, frame = cap.read()\n",
    "    \n",
    "    if not ret:\n",
    "        print(\"No frame received!\")\n",
    "        break\n",
    "        \n",
    "    resize_frame = cv.resize(frame, (new_width,new_height)) \n",
    "    \n",
    "    cv.imshow(\"resized video\", resize_frame)\n",
    "    if cv.waitKey(1) & 0xFF == 27:\n",
    "        break\n",
    "        \n",
    "    out.write(resize_frame)\n",
    "    \n",
    "cap.release()\n",
    "out.release()\n",
    "cv.destroyAllWindows()"
   ]
  },
  {
   "cell_type": "markdown",
   "id": "017b8ea4",
   "metadata": {},
   "source": [
    "Exercise 4"
   ]
  },
  {
   "cell_type": "code",
   "execution_count": 35,
   "id": "4db59261",
   "metadata": {},
   "outputs": [],
   "source": [
    "#First method\n",
    "img = cv.imread(\"images/dog.jfif\")\n",
    "\n",
    "cv.imshow(\"normal size\", img)\n",
    "\n",
    "resized = cv.resize(img, None, fx=3, fy=3, interpolation = cv.INTER_LINEAR)\n",
    "show_img(\"resized w/ Linear\", resized)\n",
    "\n",
    "cv.waitKey(0)\n",
    "cv.destroyAllWindows()\n",
    "\n",
    "# the output is blurry yet the details can been seen vividly"
   ]
  },
  {
   "cell_type": "code",
   "execution_count": 36,
   "id": "a1161d4e",
   "metadata": {},
   "outputs": [],
   "source": [
    "#Second method\n",
    "img = cv.imread(\"images/dog.jfif\")\n",
    "\n",
    "cv.imshow(\"normal size\", img)\n",
    "\n",
    "resized = cv.resize(img, None, fx=3, fy=3, interpolation = cv.INTER_CUBIC)\n",
    "show_img(\"resized w/ Cubic\", resized)\n",
    "\n",
    "cv.waitKey(0)\n",
    "cv.destroyAllWindows()\n",
    "\n",
    "# The output of the image are relatively smoother edges compared to linear"
   ]
  },
  {
   "cell_type": "code",
   "execution_count": 37,
   "id": "8d3da900",
   "metadata": {},
   "outputs": [],
   "source": [
    "#Third method\n",
    "img = cv.imread(\"images/dog.jfif\")\n",
    "\n",
    "cv.imshow(\"normal size\", img)\n",
    "\n",
    "resized = cv.resize(img, None, fx=3, fy=3, interpolation = cv.INTER_NEAREST)\n",
    "show_img(\"resized w/ nearest\", resized)\n",
    "\n",
    "cv.waitKey(0)\n",
    "cv.destroyAllWindows()\n",
    "\n",
    "#comment: the output shows more obviously that the image is more pixalated"
   ]
  },
  {
   "cell_type": "code",
   "execution_count": null,
   "id": "6f931a14",
   "metadata": {},
   "outputs": [],
   "source": []
  }
 ],
 "metadata": {
  "kernelspec": {
   "display_name": "Python 3 (ipykernel)",
   "language": "python",
   "name": "python3"
  },
  "language_info": {
   "codemirror_mode": {
    "name": "ipython",
    "version": 3
   },
   "file_extension": ".py",
   "mimetype": "text/x-python",
   "name": "python",
   "nbconvert_exporter": "python",
   "pygments_lexer": "ipython3",
   "version": "3.11.4"
  }
 },
 "nbformat": 4,
 "nbformat_minor": 5
}
